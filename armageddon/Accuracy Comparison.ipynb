{
 "cells": [
  {
   "cell_type": "code",
   "execution_count": 1,
   "metadata": {},
   "outputs": [],
   "source": [
    "import solver\n",
    "import numpy as np\n",
    "import matplotlib.pyplot as plt\n",
    "from scipy.integrate import solve_ivp"
   ]
  },
  {
   "cell_type": "code",
   "execution_count": 2,
   "metadata": {},
   "outputs": [],
   "source": [
    "def compare_num_to_analytic(\n",
    "                            radius=10, velocity=20e3, density=3000, strength=1e5, angle=45,\n",
    "                            init_altitude=1e5, radians=False):\n",
    "    \n",
    "    input_data = {'radius': radius,\n",
    "              'velocity': velocity,\n",
    "              'density': density,\n",
    "              'strength': strength,\n",
    "              'angle': angle,\n",
    "              'init_altitude': init_altitude,\n",
    "              'radians': radians}\n",
    "\n",
    "    z0 = input_data['init_altitude']  # entry altitude\n",
    "    th0 = input_data['angle'] * np.pi/180  # entry angle\n",
    "    v0 = input_data['velocity']  # entry velocity\n",
    "    r = input_data['radius']  # object radius\n",
    "    rhom = input_data['density']  # object density\n",
    "    m = (4/3) * np.pi * r**3 * rhom  # object mass\n",
    "    A = np.pi * r**2  # object cross-sectional area\n",
    "\n",
    "    planet = solver.Planet(Cd=1., Ch=0, Q=1, Cl=0, alpha=0,\n",
    "                           Rp=np.inf, g=0, H=8000., rho0=1.2)\n",
    "    result = planet.solve_atmospheric_entry(**input_data)\n",
    "\n",
    "    ts_list = [0.001, 0.002, 0.005, 0.01, 0.02, 0.05, 0.1, 0.2, 0.5, 1]\n",
    "\n",
    "    numerical_error = []\n",
    "    for time_step in ts_list:\n",
    "        results = planet.solve_atmospheric_entry(**input_data, ts=time_step, dt=time_step)\n",
    "        height_n = results.altitude.values\n",
    "        velocity_n = results.velocity.values\n",
    "\n",
    "        # define a constant in the solution\n",
    "        x = planet.H * (-planet.Cd * A / (2*m) * planet.rho0 / np.sin(th0))\n",
    "\n",
    "        # analytical solution gives v as a function of z\n",
    "        z = height_n\n",
    "        velocity_a = v0 * \\\n",
    "            (np.exp(x * (np.exp(-z/planet.H) - np.exp(-z0/planet.H))))\n",
    "\n",
    "        e = np.abs(velocity_a[-1] - velocity_n[-1])\n",
    "        numerical_error.append(e)\n",
    "\n",
    "    fig, ax = plt.subplots(1, 1, figsize=(8, 8))\n",
    "    ax.loglog(ts_list, numerical_error, 'b.', markersize=12, label='RK4')\n",
    "    ax.set_xlabel('Time Step (s)')\n",
    "    ax.set_ylabel('Error')\n",
    "\n",
    "    start_fit = 2\n",
    "    end_fit = -3\n",
    "    line_fit = np.polyfit(np.log(ts_list[start_fit:end_fit]), np.log(\n",
    "        numerical_error[start_fit:end_fit]), 1)\n",
    "    ax.loglog(ts_list, np.exp(line_fit[1]) * ts_list**(line_fit[0]),\n",
    "              'k-', label='slope: {:.2f}'.format(line_fit[0]))\n",
    "    ax.legend(loc='best')\n",
    "    plt.show()"
   ]
  },
  {
   "cell_type": "code",
   "execution_count": 3,
   "metadata": {},
   "outputs": [],
   "source": [
    "# New planet comparison with solve_ivp\n",
    "\n",
    "def compare_with_scipy(\n",
    "                    radius=10, velocity=20e3, density=3000, strength=1e5, angle=45, init_altitude=1e5, \n",
    "                    radians=False, ts_list=[0.001, 0.002, 0.005, 0.01, 0.02, 0.05, 0.1, 0.2, 0.5, 1],\n",
    "                    alpha=0, tol=1e-6):\n",
    "\n",
    "    input_data = {'radius': radius,\n",
    "              'velocity': velocity,\n",
    "              'density': density,\n",
    "              'strength': strength,\n",
    "              'angle': angle,\n",
    "              'init_altitude': init_altitude,\n",
    "              'radians': radians}\n",
    "\n",
    "    z0 = input_data['init_altitude']  # entry altitude\n",
    "    th0 = input_data['angle'] * np.pi/180  # entry angle\n",
    "    v0 = input_data['velocity']  # entry velocity\n",
    "    r = input_data['radius']  # object radius\n",
    "    rhom = input_data['density']  # object density\n",
    "    m = (4/3) * np.pi * r**3 * rhom  # object mass\n",
    "    A = np.pi * r**2  # object cross-sectional area\n",
    "\n",
    "    planet_nofrag = solver.Planet(alpha=0)\n",
    "    planet_frag = solver.Planet(alpha=alpha)\n",
    "\n",
    "    radius = input_data['radius']\n",
    "    velocity = input_data['velocity']\n",
    "    density = input_data['density']\n",
    "    strength = input_data['strength']\n",
    "    angle = input_data['angle']\n",
    "    init_altitude = input_data['init_altitude']\n",
    "    radians = input_data['radians']\n",
    "\n",
    "    # initial condition\n",
    "    v0 = velocity\n",
    "    m0 = (4/3) * np.pi * radius**3 * density\n",
    "    if radians:\n",
    "        theta0 = angle\n",
    "    else:\n",
    "        theta0 = angle * np.pi / 180\n",
    "\n",
    "    z0 = init_altitude\n",
    "    x0 = 0\n",
    "    r0 = radius\n",
    "    state0 = np.array([v0, m0, theta0, z0, x0, r0])\n",
    "\n",
    "    error_frag = []\n",
    "    error_nofrag = []\n",
    "\n",
    "    ts_list = ts_list\n",
    "\n",
    "    frag_error = []\n",
    "    nofrag_error = []\n",
    "\n",
    "    t0 = 0\n",
    "    tol = tol\n",
    "\n",
    "    for time_step in ts_list:\n",
    "        print(time_step)\n",
    "        # no frag\n",
    "        result_nofrag = planet_nofrag.solve_atmospheric_entry(**input_data, ts=time_step, dt=time_step)\n",
    "        tf_nofrag = result_nofrag.time.values[-1]\n",
    "        t = np.arange(0,tf_nofrag+time_step, time_step) # set different time intervals\n",
    "        tf_nofrag = result_nofrag.time.values[-1]\n",
    "        sci = solve_ivp(lambda t, y: planet_nofrag.system(t, y, strength, density), [\n",
    "                t0, t[-1]], state0, method='Radau',t_eval=t, atol=tol, rtol=tol)\n",
    "        scipy_last = sci.y[:,-1]\n",
    "        ours_last = result_nofrag.drop(['time'], axis=1).to_numpy()[-1,:]\n",
    "        e = np.linalg.norm(np.abs(scipy_last - ours_last)) / np.linalg.norm(scipy_last)\n",
    "        nofrag_error.append(e)\n",
    "\n",
    "        # frag\n",
    "        result_frag = planet_frag.solve_atmospheric_entry(**input_data, ts=time_step, dt=time_step)\n",
    "        tf_frag = result_frag.time.values[-1]\n",
    "        t = np.arange(0,tf_frag+time_step, time_step) # set different time intervals\n",
    "        tf_frag = result_frag.time.values[-1]\n",
    "        sci = solve_ivp(lambda t, y: planet_frag.system(t, y, strength, density), [\n",
    "                t0, t[-1]], state0, method='Radau', t_eval=t, atol=tol, rtol=tol)\n",
    "        scipy_last = sci.y[:,-1]\n",
    "        ours_last = result_frag.drop(['time'], axis=1).to_numpy()[-1,:]\n",
    "        e = np.linalg.norm(np.abs(scipy_last - ours_last)) / np.linalg.norm(scipy_last)\n",
    "        frag_error.append(e)\n",
    "\n",
    "    fig, ax = plt.subplots(1, 1, figsize=(8, 8))\n",
    "    ax.loglog(ts_list, nofrag_error, 'b.', markersize=12, label='No Fragmentation')\n",
    "    ax.loglog(ts_list, frag_error, 'r.', markersize=12, label='Fragmentation')\n",
    "    ax.set_xlabel('Time Step (s)')\n",
    "    ax.set_ylabel('Error')\n",
    "\n",
    "    start_fit = 2\n",
    "    end_fit = -3\n",
    "    line_fit_nofrag = np.polyfit(np.log(ts_list[start_fit:end_fit]), np.log(\n",
    "        nofrag_error[start_fit:end_fit]), 1)\n",
    "    ax.loglog(ts_list, np.exp(line_fit_nofrag[1]) * ts_list**(line_fit_nofrag[0]),\n",
    "              'k-', label='slope: {:.2f}'.format(line_fit_nofrag[0]))\n",
    "    line_fit_frag = np.polyfit(np.log(ts_list[start_fit:end_fit]), np.log(\n",
    "        frag_error[start_fit:end_fit]), 1)\n",
    "    ax.loglog(ts_list, np.exp(line_fit_frag[1]) * ts_list**(line_fit_frag[0]),\n",
    "              'k-', label='slope: {:.2f}'.format(line_fit_frag[0]))\n",
    "    ax.legend(loc='best')\n",
    "    plt.show()"
   ]
  },
  {
   "cell_type": "code",
   "execution_count": 4,
   "metadata": {},
   "outputs": [
    {
     "data": {
      "image/png": "[encoded data removed]",
      "text/plain": [
       "<Figure size 576x576 with 1 Axes>"
      ]
     },
     "metadata": {
      "needs_background": "light"
     },
     "output_type": "display_data"
    }
   ],
   "source": [
    "compare_num_to_analytic()"
   ]
  },
  {
   "cell_type": "code",
   "execution_count": 5,
   "metadata": {},
   "outputs": [
    {
     "name": "stdout",
     "output_type": "stream",
     "text": [
      "0.001\n",
      "0.002\n",
      "0.005\n",
      "0.01\n",
      "0.02\n",
      "0.05\n",
      "0.1\n",
      "0.2\n",
      "0.5\n",
      "1\n"
     ]
    },
    {
     "data": {
      "image/png": "[encoded data removed]",
      "text/plain": [
       "<Figure size 576x576 with 1 Axes>"
      ]
     },
     "metadata": {
      "needs_background": "light"
     },
     "output_type": "display_data"
    }
   ],
   "source": [
    "compare_with_scipy(alpha=0.3)"
   ]
  },
  {
   "cell_type": "code",
   "execution_count": null,
   "metadata": {},
   "outputs": [],
   "source": []
  }
 ],
 "metadata": {
  "kernelspec": {
   "display_name": "Python 3",
   "language": "python",
   "name": "python3"
  },
  "language_info": {
   "codemirror_mode": {
    "name": "ipython",
    "version": 3
   },
   "file_extension": ".py",
   "mimetype": "text/x-python",
   "name": "python",
   "nbconvert_exporter": "python",
   "pygments_lexer": "ipython3",
   "version": "3.7.3"
  }
 },
 "nbformat": 4,
 "nbformat_minor": 4
}
